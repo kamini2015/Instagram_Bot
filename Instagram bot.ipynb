{
 "cells": [
  {
   "cell_type": "code",
   "execution_count": 10,
   "metadata": {},
   "outputs": [
    {
     "name": "stderr",
     "output_type": "stream",
     "text": [
      "[WDM] - Cache is valid for [02/06/2020]\n",
      "[WDM] - Looking for [chromedriver 83.0.4103.39 win32] driver in cache \n",
      "[WDM] - Driver found in cache [C:\\Users\\Kamini\\.wdm\\drivers\\chromedriver\\83.0.4103.39\\win32\\chromedriver.exe]\n"
     ]
    },
    {
     "name": "stdout",
     "output_type": "stream",
     "text": [
      " \n",
      "Mission Successful\n"
     ]
    }
   ],
   "source": [
    "from selenium import webdriver\n",
    "from webdriver_manager.chrome import ChromeDriverManager\n",
    "\n",
    "driver = webdriver.Chrome(ChromeDriverManager().install())\n",
    "driver.get('https://www.instagram.com/?hl=en')\n",
    "\n",
    "driver.implicitly_wait(10)\n",
    "\n",
    "username = driver.find_element_by_name('username')\n",
    "driver.implicitly_wait(10)\n",
    "username.send_keys('Your email')\n",
    "driver.implicitly_wait(10)\n",
    "pwd = driver.find_element_by_name('password')\n",
    "driver.implicitly_wait(10)\n",
    "pwd.send_keys('your_password')\n",
    "driver.implicitly_wait(10)\n",
    "username.submit()\n",
    "# To search a name\n",
    "inputElement = driver.find_element_by_xpath('//*[@id=\"react-root\"]/section/nav/div[2]/div/div/div[2]/input[@placeholder=\"Search\"]')\n",
    "\n",
    "inputElement.send_keys('name_you_want_to_search')\n",
    "driver.implicitly_wait(10)\n",
    "\n",
    "# to click on the resultant name\n",
    "click = driver.find_element_by_xpath('//*[@id=\"react-root\"]/section/nav/div[2]/div/div/div[2]/div[2]/div[2]/div/a[1]/div/div[2]').click()\n",
    "\n",
    "# click on message button\n",
    "message_button = driver.find_element_by_xpath('//*[@id=\"react-root\"]/section/main/div/header/section/div[1]/div[1]/div/button').click()\n",
    "driver.implicitly_wait(10)\n",
    "\n",
    "# To off the notification\n",
    "notify_off = driver.find_element_by_xpath('/html/body/div[4]/div/div/div[3]/button[2]').click()\n",
    "driver.implicitly_wait(20)\n",
    "\n",
    "# to send a heart\n",
    "heart_click = driver.find_element_by_xpath('//*[@id=\"react-root\"]/section/div/div[2]/div/div/div[2]/div[2]/div/div[2]/div/div/button[3]').click()\n",
    "driver.implicitly_wait(20)\n",
    "\n",
    "# To send message\n",
    "send_message = driver.find_element_by_xpath('//*[@id=\"react-root\"]/section/div/div[2]/div/div/div[2]/div[2]/div/div[2]/div/div/div[2]/textarea[@placeholder=\"Message...\"]')\n",
    "driver.implicitly_wait(10)\n",
    "send_message.send_keys('Type_your_message_here')\n",
    "# To click on send button for message\n",
    "click_send_button = driver.find_element_by_xpath('//*[@id=\"react-root\"]/section/div/div[2]/div/div/div[2]/div[2]/div/div[2]/div/div/div[3]/button').click()\n",
    "driver.implicitly_wait(10)\n",
    "\n",
    "# to watch a story\n",
    "watch_story = driver.find_element_by_xpath('//*[@id=\"react-root\"]/section/main/section/div[1]/div[1]/div/div/div/div/ul/li[3]/div/button/div[1]').click()\n",
    "driver.implicitly_wait(10)\n",
    "\n",
    "# To like a picture\n",
    "like_picture = driver.find_element_by_xpath('//*[@id=\"react-root\"]/section/main/section/div[1]/div[2]/div/article[1]/div[2]/section[1]/span[1]/button').click()\n",
    "driver.implicitly_wait(10)\n",
    "\n",
    "# To comment\n",
    "comment_on_picture = driver.find_element_by_xpath('//*[@id=\"react-root\"]/section/main/div/div[1]/article/div[2]/section[3]/div/form/textarea[@placeholder=\"Add a comment…\"]').click()\n",
    "driver.implicitly_wait(10)\n",
    "comment_on_picture.send_keys('Looking good')\n",
    "\n",
    "# To click on send button for sending comment\n",
    "click_post_button = driver.find_element_by_xpath('//*[@id=\"react-root\"]/section/main/div/div[1]/article/div[2]/section[3]/div/form/button').click()\n",
    "driver.implicitly_wait(10)\n",
    "\n",
    "# To follow or unfollow someone\n",
    "# - >use search to find the person\n",
    "follow = driver.find_element_by_xpath('//*[@id=\"react-root\"]/section/main/div/header/section/div[1]/div[1]/span/span[1]/button').click()\n",
    "driver.implicitly_wait(10)\n",
    "    "
   ]
  },
  {
   "cell_type": "code",
   "execution_count": null,
   "metadata": {},
   "outputs": [],
   "source": []
  }
 ],
 "metadata": {
  "kernelspec": {
   "display_name": "Python 3",
   "language": "python",
   "name": "python3"
  },
  "language_info": {
   "codemirror_mode": {
    "name": "ipython",
    "version": 3
   },
   "file_extension": ".py",
   "mimetype": "text/x-python",
   "name": "python",
   "nbconvert_exporter": "python",
   "pygments_lexer": "ipython3",
   "version": "3.7.6"
  }
 },
 "nbformat": 4,
 "nbformat_minor": 4
}
